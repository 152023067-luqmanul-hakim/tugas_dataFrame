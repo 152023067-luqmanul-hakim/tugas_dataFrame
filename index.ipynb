{
 "cells": [
  {
   "cell_type": "code",
   "execution_count": null,
   "metadata": {},
   "outputs": [],
   "source": [
    "import pandas as pd\n",
    "pd.set_option('display.max_rows', None) \n",
    "\n",
    "# 1.Dengan menggunakan pustaka pandas di Python, buatlah sebuah DataFrame dari data jumlah produksi sampah \n",
    "# berdasarkan Kabupaten/Kota di Jawa Barat. Pastikan kolom-kolomnya menyertakan nama Kabupaten/Kota, jumlah \n",
    "# produksi sampah (dalam ton), dan tahun pencatatan\n",
    "data_sampah = pd.read_csv('data_sampah.csv')  \n",
    "data_sampah"
   ]
  },
  {
   "cell_type": "code",
   "execution_count": 40,
   "metadata": {},
   "outputs": [],
   "source": [
    "# 2.Dari DataFrame yang telah dibuat, hitunglah total produksi sampah di seluruh\n",
    "#  Kabupaten/Kota di Jawa Barat untuk tahun tertentu. Tampilkan hasilnya\n",
    "data_2020 = {}\n",
    "# data_2020 = {\n",
    "#     2020 : jumlah sampah\n",
    "# }\n",
    "for index, row in data_sampah.iterrows():\n",
    "    tahun = row['tahun']\n",
    "    sampah = row['jumlah_produksi_sampah']\n",
    "\n",
    "    if tahun == 2020 not in data_2020:\n",
    "        data_2020[tahun] = sampah\n",
    "    elif tahun == 2020 in data_2020:\n",
    "        data_2020[tahun] += sampah\n",
    "\n",
    "df_sampah_tahun2020 = pd.DataFrame(list(data_2020.items()), columns=['Tahun','Total Sampah'])\n",
    "df_sampah_tahun2020.to_csv('data_tahun2020.csv')\n",
    "df_sampah_tahun2020.to_excel('data_tahun2020.xlsx')\n"
   ]
  },
  {
   "cell_type": "code",
   "execution_count": null,
   "metadata": {},
   "outputs": [],
   "source": [
    "#hanya contoh\n",
    "jmlh = 0\n",
    "for index, row in data_sampah.iterrows():\n",
    "    if row['tahun'] == 2020 :\n",
    "        jmlh = jmlh + row['jumlah_produksi_sampah']\n",
    "\n",
    "print(f\"jumlah total sampah pada tahun 2020 dari seluruh wilayah adalah {jmlh:.1f} ton.\\n\")\n"
   ]
  },
  {
   "cell_type": "code",
   "execution_count": null,
   "metadata": {},
   "outputs": [],
   "source": [
    "# 3.Jumlahkan Data Pertahun\n",
    "sampah_pertahun = {}\n",
    "# sampah_pertahun = {\n",
    "#     tahun : berat sampah\n",
    "# }\n",
    "\n",
    "for index, row in data_sampah.iterrows():\n",
    "    tahun = row['tahun']\n",
    "    sampah = row['jumlah_produksi_sampah']\n",
    "\n",
    "    if tahun not in sampah_pertahun:\n",
    "        sampah_pertahun[tahun] = sampah\n",
    "    else :\n",
    "        sampah_pertahun[tahun] += sampah\n",
    "\n",
    "for tahun, sampah in sampah_pertahun.items():\n",
    "    print(f\"Jumlah data pada {tahun} di Jawa Barat adalah {sampah:.1f} ton.\")\n",
    "\n",
    "df_sampah_pertahun = pd.DataFrame(list(sampah_pertahun.items()), columns=['Tahun','Total Sampah'])\n",
    "df_sampah_pertahun.to_csv('data_pertahun.csv')\n",
    "df_sampah_pertahun.to_excel('data_pertahun.xlsx')"
   ]
  },
  {
   "cell_type": "code",
   "execution_count": null,
   "metadata": {},
   "outputs": [],
   "source": [
    "# 4.Jumlahkan data per Kota/Kabupaten per tahun\n",
    "sampah_perdaerah = {}\n",
    "# sampah_perdaerah = {\n",
    "#     nama_daerah : total sampah\n",
    "# }\n",
    "for index, row in data_sampah.iterrows():\n",
    "    daerah = row[\"nama_kabupaten_kota\"]\n",
    "    sampah = row[\"jumlah_produksi_sampah\"]\n",
    "    if daerah not in sampah_perdaerah:\n",
    "        sampah_perdaerah[daerah] = sampah\n",
    "    else:\n",
    "        sampah_perdaerah[daerah] += sampah\n",
    "\n",
    "print(\"Data sampah sampah (ton) dari tiap kabupaten/kota :\")\n",
    "for daerah, sampah in sampah_perdaerah.items():\n",
    "    print(f\"Jumlah sampah di daerah {daerah} dari tahun 2015 - 2021, adalah {sampah:.1f} ton\")\n",
    "\n",
    "df_sampah_perdaerah = pd.DataFrame(list(sampah_perdaerah.items()), columns=['Nama Daerah','Total Sampah'])\n",
    "df_sampah_perdaerah.to_csv('data_perdaerah.csv')\n",
    "df_sampah_perdaerah.to_excel('data_perdaerah.xlsx')"
   ]
  }
 ],
 "metadata": {
  "kernelspec": {
   "display_name": "Python 3",
   "language": "python",
   "name": "python3"
  },
  "language_info": {
   "codemirror_mode": {
    "name": "ipython",
    "version": 3
   },
   "file_extension": ".py",
   "mimetype": "text/x-python",
   "name": "python",
   "nbconvert_exporter": "python",
   "pygments_lexer": "ipython3",
   "version": "3.12.6"
  }
 },
 "nbformat": 4,
 "nbformat_minor": 2
}
